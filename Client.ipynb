{
 "cells": [
  {
   "cell_type": "code",
   "execution_count": null,
   "metadata": {},
   "outputs": [],
   "source": []
  },
  {
   "cell_type": "code",
   "execution_count": null,
   "metadata": {},
   "outputs": [
    {
     "name": "stdout",
     "output_type": "stream",
     "text": [
      "hello\n",
      "hii\n",
      "byee\n"
     ]
    }
   ],
   "source": [
    "import socket\n",
    "import threading\n",
    "import sys\n",
    "\n",
    "def receive_messages():\n",
    "    while True:\n",
    "        try:\n",
    "            message = client_socket.recv(1024).decode(\"utf-8\")\n",
    "            if not message:\n",
    "                break\n",
    "            print(message)\n",
    "        except Exception as e:\n",
    "            print(f\"Error receiving message: {e}\")\n",
    "            break\n",
    "\n",
    "def send_messages():\n",
    "    while True:\n",
    "        try:\n",
    "            message = input()\n",
    "            if not message:\n",
    "                break  # Break the loop if empty message is entered\n",
    "            client_socket.send(message.encode(\"utf-8\"))\n",
    "        except EOFError:\n",
    "            print(\"EOF when reading a line. Client disconnected.\")\n",
    "            break\n",
    "        except Exception as e:\n",
    "            print(f\"Error sending message: {e}\")\n",
    "            break\n",
    "\n",
    "# Configuration\n",
    "HOST = \"127.0.0.1\"\n",
    "PORT = 5555\n",
    "\n",
    "# Initialize client socket\n",
    "client_socket = socket.socket(socket.AF_INET, socket.SOCK_STREAM)\n",
    "\n",
    "try:\n",
    "    # Connect to the server\n",
    "    client_socket.connect((HOST, PORT))\n",
    "\n",
    "    # Start threads for sending and receiving messages\n",
    "    receive_thread = threading.Thread(target=receive_messages)\n",
    "    send_thread = threading.Thread(target=send_messages)\n",
    "\n",
    "    receive_thread.start()\n",
    "    send_thread.start()\n",
    "\n",
    "    # Wait for threads to complete\n",
    "    receive_thread.join()\n",
    "    send_thread.join()\n",
    "\n",
    "except Exception as e:\n",
    "    print(f\"Error connecting to server: {e}\")\n",
    "finally:\n",
    "    # Close the client socket\n",
    "    client_socket.close()\n",
    "    sys.exit(0)\n"
   ]
  }
 ],
 "metadata": {
  "kernelspec": {
   "display_name": "Python 3",
   "language": "python",
   "name": "python3"
  },
  "language_info": {
   "codemirror_mode": {
    "name": "ipython",
    "version": 3
   },
   "file_extension": ".py",
   "mimetype": "text/x-python",
   "name": "python",
   "nbconvert_exporter": "python",
   "pygments_lexer": "ipython3",
   "version": "3.8.3"
  }
 },
 "nbformat": 4,
 "nbformat_minor": 4
}
