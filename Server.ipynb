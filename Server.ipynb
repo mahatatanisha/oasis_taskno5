{
 "cells": [
  {
   "cell_type": "code",
   "execution_count": null,
   "metadata": {},
   "outputs": [],
   "source": []
  },
  {
   "cell_type": "code",
   "execution_count": null,
   "metadata": {},
   "outputs": [
    {
     "name": "stdout",
     "output_type": "stream",
     "text": [
      "Server listening on 127.0.0.1:5555\n",
      "Connected with ('127.0.0.1', 47129)\n",
      "Received from ('127.0.0.1', 47129): hello\n",
      "Received from ('127.0.0.1', 47129): hii\n",
      "Received from ('127.0.0.1', 47129): byee\n"
     ]
    }
   ],
   "source": [
    "import socket\n",
    "import threading\n",
    "\n",
    "def handle_client(client_socket, address):\n",
    "    print(f\"Connected with {address}\")\n",
    "\n",
    "    while True:\n",
    "        # Receive message from client\n",
    "        message = client_socket.recv(1024).decode(\"utf-8\")\n",
    "        if not message:\n",
    "            break\n",
    "\n",
    "        print(f\"Received from {address}: {message}\")\n",
    "\n",
    "        # Broadcast message to all clients\n",
    "        broadcast(message, client_socket)\n",
    "\n",
    "    print(f\"Connection with {address} closed\")\n",
    "    client_socket.close()\n",
    "\n",
    "def broadcast(message, sender_socket):\n",
    "    for client in clients:\n",
    "        if client != sender_socket:\n",
    "            client.send(message.encode(\"utf-8\"))\n",
    "\n",
    "# Configuration\n",
    "HOST = \"127.0.0.1\"\n",
    "PORT = 5555\n",
    "\n",
    "# Initialize server socket\n",
    "server = socket.socket(socket.AF_INET, socket.SOCK_STREAM)\n",
    "server.bind((HOST, PORT))\n",
    "server.listen()\n",
    "\n",
    "print(f\"Server listening on {HOST}:{PORT}\")\n",
    "\n",
    "# List to keep track of client sockets\n",
    "clients = []\n",
    "\n",
    "# Accept incoming connections\n",
    "while True:\n",
    "    client_socket, address = server.accept()\n",
    "    clients.append(client_socket)\n",
    "\n",
    "    # Handle client in a separate thread\n",
    "    client_thread = threading.Thread(target=handle_client, args=(client_socket, address))\n",
    "    client_thread.start()\n"
   ]
  }
 ],
 "metadata": {
  "kernelspec": {
   "display_name": "Python 3",
   "language": "python",
   "name": "python3"
  },
  "language_info": {
   "codemirror_mode": {
    "name": "ipython",
    "version": 3
   },
   "file_extension": ".py",
   "mimetype": "text/x-python",
   "name": "python",
   "nbconvert_exporter": "python",
   "pygments_lexer": "ipython3",
   "version": "3.8.3"
  }
 },
 "nbformat": 4,
 "nbformat_minor": 4
}
